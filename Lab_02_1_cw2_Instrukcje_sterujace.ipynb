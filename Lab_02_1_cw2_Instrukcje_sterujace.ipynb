{
  "nbformat": 4,
  "nbformat_minor": 0,
  "metadata": {
    "kernelspec": {
      "name": "python36",
      "display_name": "Python 3.6",
      "language": "python"
    },
    "language_info": {
      "mimetype": "text/x-python",
      "nbconvert_exporter": "python",
      "name": "python",
      "pygments_lexer": "ipython3",
      "version": "3.6.6",
      "file_extension": ".py",
      "codemirror_mode": {
        "version": 3,
        "name": "ipython"
      }
    },
    "colab": {
      "name": "Lab.02-1-cw2. Instrukcje-sterujace.ipynb",
      "provenance": [],
      "include_colab_link": true
    }
  },
  "cells": [
    {
      "cell_type": "markdown",
      "metadata": {
        "id": "view-in-github",
        "colab_type": "text"
      },
      "source": [
        "<a href=\"https://colab.research.google.com/github/WikiB123/Python-lessons/blob/main/Lab_02_1_cw2_Instrukcje_sterujace.ipynb\" target=\"_parent\"><img src=\"https://colab.research.google.com/assets/colab-badge.svg\" alt=\"Open In Colab\"/></a>"
      ]
    },
    {
      "cell_type": "markdown",
      "metadata": {
        "collapsed": true,
        "id": "4YepKGRfnYxM"
      },
      "source": [
        "## Instrukcje sterujące - ćwiczenia z algorytmiki (2)"
      ]
    },
    {
      "cell_type": "markdown",
      "metadata": {
        "id": "YpzRA9Gu3ib4"
      },
      "source": [
        "Wiktoria Borzęcka Bioinformatyka i analiza danych"
      ]
    },
    {
      "cell_type": "markdown",
      "metadata": {
        "id": "ppsTk-x6nYxY"
      },
      "source": [
        "<div class=\"alert alert-block alert-info\">\n",
        "Pobierz tylko ten plik i umiesć go w swoim projekcie w chmurze (przeslij). Nastepnie rozwiąż zadanie.\n",
        "</div>"
      ]
    },
    {
      "cell_type": "markdown",
      "metadata": {
        "id": "lES1ZuHTnYxZ"
      },
      "source": [
        "### Zadanie 2. Analiza schematu blokowego\n",
        "\n",
        "<img src=\"data:image/png;base64,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\" style=\"cursor:pointer;max-width:100%;\" onclick=\"(function(img){if(img.wnd!=null&&!img.wnd.closed){img.wnd.focus();}else{var r=function(evt){if(evt.data=='ready'&&evt.source==img.wnd){img.wnd.postMessage(decodeURIComponent(img.getAttribute('src')),'*');window.removeEventListener('message',r);}};window.addEventListener('message',r);img.wnd=window.open('https://www.draw.io/?client=1&lightbox=1&edit=_blank');}})(this);\"/>\n",
        "\n",
        "[Link](https://www.draw.io/?lightbox=1&highlight=0000ff&edit=_blank&layers=1&nav=1#R3Vldb%2BMoFP01fmzl7ySPbZrOjDQzu9qutJ1HYhObKTYWxnWcX7%2FXNv6KSZNO0iRqpVZwuWA4nHPhUs2aR%2BsvHCXhD%2BZjqpm6v9asB800J44Nf0tDURvsqTQEnPi1yegMT2SDpVGX1oz4OB04CsaoIMnQ6LE4xp4Y2BDnLB%2B6rRgdfjVBAR4ZnjxEx9b%2FiC9CaTXcWdfwFZMglJ%2BempO6YYm8l4CzLJbf00xrVf3UzRFqxpILTUPks7xnshaaNeeMiboUreeYltA2sNX9Hne0tvPmOBaHdDDlNETRLB37gISsMi5CFrAY0UVnva%2BWh8sBdKiFIqJQNKAI3%2BTFc2m%2FdZrqL%2Bn2GwtRyI1GmWBg6kb%2Fzlgix1ixWDyiiNCSOf%2BSCFhg6j9xDn%2F%2FYRGKwWW8RrnslGXck8uwJGsQD3CzSbWpXGCvm8TlC2YRhvmCA8cUCfI6pAKSjApavw5VKEhg1SDLubwimslBU5iXGENPKRC8hDgPicBPCapWk4PEhkAfA9Ir5gKv3wRAtpq6U3eRInYlZ%2FNOERNpCntasPXjEbMViAFFrhwwwxgCZk%2FPhxhdPEd%2BbgfTv%2FLXaPHDdJ7ZtxtLH0P2TnkrRaoQ84FhoKo8rAe1QtYO0rU71rVy6ebsUmp3R9zVTJfCXO8JFIKysGksMFZrhD7awtSmrjaDbdNrRFwUlVSOl2lS14cDZbs8BgN3o%2B4Zbq2eV21b8s6yRaohZa5Di7OhFktAt7U4U2jROoEWJ5%2F1UJ2OxedeSmbTkcxyb1MI9Fuz7v6U6PNSg9u%2BhdK3%2FIjuIW3uaFPzheVA%2BdGuw%2BUuKYse4v5JdJHWW22YH6MRwzpMIx93Xh1%2FHT3jeYXXRDw3Y0D5VzcE1LpOZeVdZ5yhuLye6ZCrut5xjoqeQ8JILNLeyH%2BXho5HVpPNSB5ZMk16PNC%2FuVnu8m8Jp%2FaHQj3jjnjt0o%2Fg4vjWvh1WYoLHkWaLvyBFMaQbxyBjtKwcSkpIdMHbudecB7AgSoK4jBtAEszBUEqaQHZ6Jxsi4vsV9ylaYnrf5pxzRhmvvttknSrGvSm9UfRok2w5Za2fqKqiyo1%2BO7GdrchS195Hw44HjQtbrVIsRmHmFLttXyLy%2FHE0MCaXOnbV6Dl7tSLQy%2BfRSpOenkIrptWgdxXqMJRhb5R16FXT7mQhTeDC0tkG%2B673Om757U00QhYts%2FRakoz2vbI5%2BGzr1hldoVzFFco5wRXKcI%2BOWT3Ezp1LNCGsH9bsS0W1ZjIK1vcZmhcJSTdvJBg7GL0v8d%2BRN%2FjMy6IKw310X9a7%2Bn155iRbH%2FLfViTZrc95MghjhOYVZxAHCeXNm%2F%2FgUmBd1aWgmeKRD2F7MvnNQS9g5v6nNHWarziSPvYJLtuByA38Gp%2FkKU7xLH6iZwaodv87q28%2F3f8nrcX%2F)"
      ]
    },
    {
      "cell_type": "markdown",
      "metadata": {
        "id": "6-v7n1AQnYxg"
      },
      "source": [
        "#### 2.1. Jaki wynik zostanie wypisany dla wartości $x=3$ oraz $y=5$?\n",
        "\n",
        "Analiza:\n",
        "Tworzymy tabelkę zawierającą kolumny ze zmiennymi w algorytmie.\n",
        "Analizujemy, krok po kroku, jak zmieniają się wartości\n",
        "\n",
        "| krok pętli | *x* | *y* | *z* | *u* |\n",
        "|------------|-----|-----|-----|-----|\n",
        "|     0      |   3 |   5 |   0 |   3 |\n",
        "|     1      |   3 |   5 |   5 |   2 |\n",
        "|     2      |   3 |   5 |  10 |   1 |\n",
        "| i.t.d.     |\n"
      ]
    },
    {
      "cell_type": "markdown",
      "metadata": {
        "id": "lyyazpKWnYxm"
      },
      "source": [
        "15"
      ]
    },
    {
      "cell_type": "markdown",
      "metadata": {
        "id": "c0UP6xpjnYxn"
      },
      "source": [
        "#### 2.2. Jakie ograniczenie należy nałożyć na wprowadzaną wartość $x$, aby program się nie zapętlił?"
      ]
    },
    {
      "cell_type": "markdown",
      "metadata": {
        "id": "0_Az8NT_nYxn"
      },
      "source": [
        "x musi być większe od 0"
      ]
    },
    {
      "cell_type": "markdown",
      "metadata": {
        "id": "QHzy9e2InYxo"
      },
      "source": [
        "#### 2.3. Napisz jednym zdaniem, co jest wynikiem działania programu. Jeśli potrafisz, zapisz to formułą matematyczną."
      ]
    },
    {
      "cell_type": "markdown",
      "metadata": {
        "id": "vlzqSfwXnYxo"
      },
      "source": [
        "mnożenie (x * y)"
      ]
    },
    {
      "cell_type": "markdown",
      "metadata": {
        "id": "9wDEw1zSnYxp"
      },
      "source": [
        "#### 2.4 Zapisz pseudokodem algorytm"
      ]
    },
    {
      "cell_type": "markdown",
      "metadata": {
        "id": "8tiumXFRnYxp"
      },
      "source": [
        "```pseudocode\n",
        "1. Wczytaj x, y: całkowite\n",
        "2. z ← 0\n",
        "3. u ← x\n",
        "\n",
        "3. wykonuj:\n",
        "  4. z ← z + y\n",
        "  5. u ← u - 1\n",
        "\n",
        "  6. jeśli u = 0\n",
        "    7. przerwij działąnie pętli\n",
        "8. wypisz z\n",
        "\n",
        "```"
      ]
    },
    {
      "cell_type": "markdown",
      "metadata": {
        "id": "w453DzoanYxq"
      },
      "source": [
        "#### 1.4. Napisz program w Python realizujący algorytm\n",
        "\n",
        "Sprawdź wyniki z poprzednich poleceń. Uruchom program do różnych wartości $x$ oraz $y$. Jakie zadanie wykonuje algorytm?"
      ]
    },
    {
      "cell_type": "code",
      "metadata": {
        "trusted": true,
        "id": "OT3INKhhnYxq"
      },
      "source": [
        "x = int(input(\"Podaj x: \"))\n",
        "y = int(input(\"Podaj y: \"))\n",
        "z = 0\n",
        "u = x\n",
        "\n",
        "while True:\n",
        "    z += y\n",
        "    u -= 1\n",
        "    if u == 0:\n",
        "        break\n",
        "\n",
        "print(z)\n",
        "\n"
      ],
      "execution_count": null,
      "outputs": []
    }
  ]
}