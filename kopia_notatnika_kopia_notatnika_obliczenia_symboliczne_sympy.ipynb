{
  "cells": [
    {
      "cell_type": "markdown",
      "metadata": {
        "id": "view-in-github",
        "colab_type": "text"
      },
      "source": [
        "<a href=\"https://colab.research.google.com/github/WikiB123/Python-lessons/blob/main/kopia_notatnika_kopia_notatnika_obliczenia_symboliczne_sympy.ipynb\" target=\"_parent\"><img src=\"https://colab.research.google.com/assets/colab-badge.svg\" alt=\"Open In Colab\"/></a>"
      ]
    },
    {
      "cell_type": "markdown",
      "source": [
        "Wiktoria Borzęcka"
      ],
      "metadata": {
        "id": "-VBPLLNNVWYq"
      }
    },
    {
      "cell_type": "markdown",
      "metadata": {
        "id": "z87vkMhfkqPL"
      },
      "source": [
        "# Obliczenia symboliczne z pakietem Sympy\n",
        "\n",
        "[Sympy](http://www.sympy.org/en/index.html) jest opisana jako:\n",
        "\n",
        "> \"... Python library for symbolic mathematics.\"\n",
        "\n",
        "Oznacza to, że może być wykorzystana, między innymi do:\n",
        "\n",
        "- Tworzenia i modyfikowania symbolicznych wyrażeń matematycznych;\n",
        "- Symbolicznego rozwiązywania równań (i układów równań);\n",
        "- Stosując symboliczne przekształcenia wykonać operacje rachunku różniczkowego (granice, pochodne, całki, równania różniczkowe);\n",
        "- Rysować funkcje opisane symbolicznie.\n",
        "\n",
        "Ma jeszcze wiele więcej mozliwośći, z którymi można zapoznać się na stronie: http://www.sympy.org/en/index.html\n",
        "\n",
        "## Budowanie wyrażeń symbolicznych (wzorów)\n",
        "\n",
        "Aby móc wykonywać obliczenia symboliczne, należy w swoim środowisku Python + Jupyter Notebook zainstalować bibliotekę `sympy`.\n",
        "\n",
        "W notatniku, w pierwszym kroku należy zaimportować tę bibliotekę."
      ]
    },
    {
      "cell_type": "code",
      "execution_count": null,
      "metadata": {
        "dotnet_interactive": {
          "language": "csharp"
        },
        "id": "wUQ_YlDykqPn"
      },
      "outputs": [],
      "source": [
        "import sympy as sym"
      ]
    },
    {
      "cell_type": "markdown",
      "metadata": {
        "id": "gRmW8RadkqQD"
      },
      "source": [
        "Zaimportowanie tej biblioteki pozwoli na używanie jej komend (poprzedzonych skrótem `sym` - taki jest zwyczaj)."
      ]
    },
    {
      "cell_type": "markdown",
      "metadata": {
        "id": "zxLUhD_IkqQG"
      },
      "source": [
        "Jeśli będziemy chcieli wprowadzić wyrażenie symboliczne, **musimy** zadeklarować wykorzystane w nim symbole (zmienne):"
      ]
    },
    {
      "cell_type": "code",
      "execution_count": null,
      "metadata": {
        "dotnet_interactive": {
          "language": "csharp"
        },
        "id": "TGE9bX6xkqQI"
      },
      "outputs": [],
      "source": [
        "x = sym.symbols('x')"
      ]
    },
    {
      "cell_type": "markdown",
      "metadata": {
        "id": "FQRk2IPXkqQM"
      },
      "source": [
        "Teraz możemy wprowadzić $x^2 - x$:"
      ]
    },
    {
      "cell_type": "code",
      "execution_count": null,
      "metadata": {
        "dotnet_interactive": {
          "language": "csharp"
        },
        "colab": {
          "base_uri": "https://localhost:8080/",
          "height": 38
        },
        "id": "rmi-0V8vkqQR",
        "outputId": "882a323c-36d7-4183-eb79-f3acd9d159a4"
      },
      "outputs": [
        {
          "output_type": "execute_result",
          "data": {
            "text/plain": [
              "x**2 - x"
            ],
            "text/latex": "$\\displaystyle x^{2} - x$"
          },
          "metadata": {},
          "execution_count": 3
        }
      ],
      "source": [
        "x**2 - x"
      ]
    },
    {
      "cell_type": "markdown",
      "metadata": {
        "id": "-81wQuzakqQX"
      },
      "source": [
        "Sprawdźmy, czy poniższe wyrażenie jest prawdziwe:\n",
        "\n",
        "$$(a + b) ^ 2 = a ^ 2 + 2ab + b ^2$$\n",
        "\n",
        "Najpierw, zadeklarować musimy zmienne symboliczne $a, b$:"
      ]
    },
    {
      "cell_type": "code",
      "execution_count": null,
      "metadata": {
        "dotnet_interactive": {
          "language": "csharp"
        },
        "id": "6c-m_VpAkqQe"
      },
      "outputs": [],
      "source": [
        "a, b = sym.symbols('a, b')"
      ]
    },
    {
      "cell_type": "markdown",
      "metadata": {
        "id": "C1aJfFFGkqQj"
      },
      "source": [
        "Teraz zapiszemy przy ich pomocy wyrażenie:"
      ]
    },
    {
      "cell_type": "code",
      "execution_count": null,
      "metadata": {
        "dotnet_interactive": {
          "language": "csharp"
        },
        "colab": {
          "base_uri": "https://localhost:8080/",
          "height": 39
        },
        "id": "Eb-8I8IbkqQk",
        "outputId": "a544b7d0-c513-4ee4-a032-1ce47fae9c8d"
      },
      "outputs": [
        {
          "output_type": "execute_result",
          "data": {
            "text/plain": [
              "(a + b)**2"
            ],
            "text/latex": "$\\displaystyle \\left(a + b\\right)^{2}$"
          },
          "metadata": {},
          "execution_count": 5
        }
      ],
      "source": [
        "expr = (a + b) ** 2\n",
        "expr"
      ]
    },
    {
      "cell_type": "markdown",
      "metadata": {
        "id": "PEBGbpUTkqRD"
      },
      "source": [
        "Wyrażenie to możemy rozwinąć (`expand`):"
      ]
    },
    {
      "cell_type": "code",
      "execution_count": null,
      "metadata": {
        "dotnet_interactive": {
          "language": "csharp"
        },
        "colab": {
          "base_uri": "https://localhost:8080/",
          "height": 38
        },
        "id": "rnLkC_qhkqRE",
        "outputId": "7e4fae3b-6bcb-4e28-c9b9-05e6e4a215bc"
      },
      "outputs": [
        {
          "output_type": "execute_result",
          "data": {
            "text/plain": [
              "a**2 + 2*a*b + b**2"
            ],
            "text/latex": "$\\displaystyle a^{2} + 2 a b + b^{2}$"
          },
          "metadata": {},
          "execution_count": 6
        }
      ],
      "source": [
        "expr.expand()"
      ]
    },
    {
      "cell_type": "markdown",
      "source": [
        "Zatem pokazaliśmy, że $(a+b)^2$ po rozwinięciu równe jest $a^{2} + 2 a b + b^{2}$"
      ],
      "metadata": {
        "id": "9tYoTaExoONl"
      }
    },
    {
      "cell_type": "markdown",
      "metadata": {
        "id": "GJ575NoEkqRF"
      },
      "source": [
        "SymPy pozwala generować zapis $\\LaTeX$ :"
      ]
    },
    {
      "cell_type": "code",
      "execution_count": null,
      "metadata": {
        "dotnet_interactive": {
          "language": "csharp"
        },
        "colab": {
          "base_uri": "https://localhost:8080/",
          "height": 35
        },
        "id": "hwRJKEZikqRH",
        "outputId": "74844dee-d4ac-4447-eb28-942f9df31745"
      },
      "outputs": [
        {
          "output_type": "execute_result",
          "data": {
            "text/plain": [
              "'a^{2} + 2 a b + b^{2}'"
            ],
            "application/vnd.google.colaboratory.intrinsic+json": {
              "type": "string"
            }
          },
          "metadata": {},
          "execution_count": 7
        }
      ],
      "source": [
        "sym.latex(expr.expand())"
      ]
    },
    {
      "cell_type": "markdown",
      "metadata": {
        "id": "dCsDSrgvkqRI"
      },
      "source": [
        "---\n",
        "**Ćwiczenie** Zweryfikuj prawdziwość poniższych równań:\n",
        "\n",
        "- $(a - b) ^ 2 = a ^ 2 - 2 a b + b^2$\n",
        "- $a ^ 2 - b ^ 2 = (a - b) (a + b)$ (zamiast `expand`, użyj `factor`)"
      ]
    },
    {
      "cell_type": "code",
      "source": [
        "import sympy as sym\n",
        "\n",
        "a, b = sym.symbols('a, b')\n",
        "expr = (a - b)**2\n",
        "expr.expand()"
      ],
      "metadata": {
        "id": "h-J6fYegoMip",
        "colab": {
          "base_uri": "https://localhost:8080/",
          "height": 39
        },
        "outputId": "df1811e9-edeb-4163-eece-6c173823ec9a"
      },
      "execution_count": null,
      "outputs": [
        {
          "output_type": "execute_result",
          "data": {
            "text/plain": [
              " 2            2\n",
              "a  - 2⋅a⋅b + b "
            ],
            "text/latex": "$\\displaystyle a^{2} - 2 a b + b^{2}$"
          },
          "metadata": {},
          "execution_count": 23
        }
      ]
    },
    {
      "cell_type": "code",
      "source": [
        "import sympy as sym\n",
        "\n",
        "a, b = sym.symbols('a, b')\n",
        "expr = a**2 - b**2\n",
        "sym.factor(expr)"
      ],
      "metadata": {
        "colab": {
          "base_uri": "https://localhost:8080/",
          "height": 39
        },
        "id": "lqsA6-S9Ry3t",
        "outputId": "d0424316-c210-4e23-f232-a30924ee193d"
      },
      "execution_count": null,
      "outputs": [
        {
          "output_type": "execute_result",
          "data": {
            "text/plain": [
              "(a - b)⋅(a + b)"
            ],
            "text/latex": "$\\displaystyle \\left(a - b\\right) \\left(a + b\\right)$"
          },
          "metadata": {},
          "execution_count": 24
        }
      ]
    },
    {
      "cell_type": "markdown",
      "metadata": {
        "id": "AfRumGNIkqRN"
      },
      "source": [
        "## Symboliczne rozwiązywanie równań"
      ]
    },
    {
      "cell_type": "markdown",
      "metadata": {
        "id": "cit4kvNOkqRO"
      },
      "source": [
        "Możemy wykorzystać SymPy do symbolicznego rozwizywania równań. Przykład - równanie kwadratowe:\n",
        "\n",
        "$$a x ^ 2 + b x + c = 0$$"
      ]
    },
    {
      "cell_type": "code",
      "execution_count": null,
      "metadata": {
        "dotnet_interactive": {
          "language": "csharp"
        },
        "id": "9EWUxFi5kqRP"
      },
      "outputs": [],
      "source": [
        "# deklaracja zmiennych symbolicznych dla potrzeb SymPy\n",
        "a, b, c, x = sym.symbols('a, b, c, x')"
      ]
    },
    {
      "cell_type": "markdown",
      "metadata": {
        "id": "2spiFhcbkqRQ"
      },
      "source": [
        "Metoda `solveset` pakietu `sympy`. Pierwszy argument jest wyrażeniem, dla którego wyznaczać będziemy pierwiastki. Drugi argument - zmienna według której wyznaczane będzie rozwiązanie."
      ]
    },
    {
      "cell_type": "code",
      "execution_count": null,
      "metadata": {
        "dotnet_interactive": {
          "language": "csharp"
        },
        "colab": {
          "base_uri": "https://localhost:8080/",
          "height": 68
        },
        "id": "u0JeJaypkqRS",
        "outputId": "bb64b091-d057-4348-f7b6-46a457ff2f86"
      },
      "outputs": [
        {
          "output_type": "execute_result",
          "data": {
            "text/plain": [
              "FiniteSet(-b/(2*a) - sqrt(-4*a*c + b**2)/(2*a), -b/(2*a) + sqrt(-4*a*c + b**2)/(2*a))"
            ],
            "text/latex": "$\\displaystyle \\left\\{- \\frac{b}{2 a} - \\frac{\\sqrt{- 4 a c + b^{2}}}{2 a}, - \\frac{b}{2 a} + \\frac{\\sqrt{- 4 a c + b^{2}}}{2 a}\\right\\}$"
          },
          "metadata": {},
          "execution_count": 9
        }
      ],
      "source": [
        "sym.solveset(a * x ** 2 + b * x + c, x)"
      ]
    },
    {
      "cell_type": "markdown",
      "metadata": {
        "id": "Uo-QVGkukqRV"
      },
      "source": [
        "---\n",
        "**Ćwiczenie** Użyj SymPy do wyznaczenia rozwiązania równania stopnia trzeciego:\n",
        "\n",
        "$$a x ^ 3 + b x ^ 2 + c  x + d = 0$$\n",
        "\n",
        "---"
      ]
    },
    {
      "cell_type": "code",
      "source": [
        "from sympy import *\n",
        "init_printing()\n",
        "\n",
        "x = symbols('x')\n",
        "a = symbols('a')\n",
        "b = symbols('b')\n",
        "c = symbols('c')\n",
        "d = symbols('d')\n",
        "\n",
        "eq = Eq(a*x**3 + b*x**2 + c*x + d, 0)\n",
        "sol = solve(eq, x)\n",
        "sol\n"
      ],
      "metadata": {
        "id": "rE77mE_mptqK",
        "colab": {
          "base_uri": "https://localhost:8080/",
          "height": 149
        },
        "outputId": "1fdd7759-ab55-4b21-8a73-df153ce46dcc"
      },
      "execution_count": null,
      "outputs": [
        {
          "output_type": "execute_result",
          "data": {
            "text/plain": [
              "⎡                                                                             \n",
              "⎢                                                                             \n",
              "⎢                                                                             \n",
              "⎢                                                                             \n",
              "⎢                                                                             \n",
              "⎢                                                                             \n",
              "⎢                                                 2                           \n",
              "⎢                                          3⋅c   b                            \n",
              "⎢                                        - ─── + ──                           \n",
              "⎢                                           a     2                           \n",
              "⎢                                                a                            \n",
              "⎢- ───────────────────────────────────────────────────────────────────────────\n",
              "⎢               ______________________________________________________________\n",
              "⎢              ╱        ____________________________________________          \n",
              "⎢             ╱        ╱                 3                        2           \n",
              "⎢            ╱        ╱      ⎛         2⎞    ⎛                  3⎞            \n",
              "⎢           ╱        ╱       ⎜  3⋅c   b ⎟    ⎜27⋅d   9⋅b⋅c   2⋅b ⎟            \n",
              "⎢          ╱        ╱    - 4⋅⎜- ─── + ──⎟  + ⎜──── - ───── + ────⎟            \n",
              "⎢         ╱        ╱         ⎜   a     2⎟    ⎜ a        2      3 ⎟            \n",
              "⎢        ╱       ╲╱          ⎝        a ⎠    ⎝         a      a  ⎠     27⋅d   \n",
              "⎢  3⋅   ╱        ─────────────────────────────────────────────────── + ──── - \n",
              "⎢    3 ╱                                  2                            2⋅a    \n",
              "⎣    ╲╱                                                                       \n",
              "\n",
              "                         _____________________________________________________\n",
              "                        ╱        ____________________________________________ \n",
              "                       ╱        ╱                 3                        2  \n",
              "                      ╱        ╱      ⎛         2⎞    ⎛                  3⎞   \n",
              "                     ╱        ╱       ⎜  3⋅c   b ⎟    ⎜27⋅d   9⋅b⋅c   2⋅b ⎟   \n",
              "                    ╱        ╱    - 4⋅⎜- ─── + ──⎟  + ⎜──── - ───── + ────⎟   \n",
              "                   ╱        ╱         ⎜   a     2⎟    ⎜ a        2      3 ⎟   \n",
              "                  ╱       ╲╱          ⎝        a ⎠    ⎝         a      a  ⎠   \n",
              "                 ╱        ─────────────────────────────────────────────────── \n",
              "              3 ╱                                  2                          \n",
              "              ╲╱                                                              \n",
              "─────────── - ────────────────────────────────────────────────────────────────\n",
              "___________                                            3                      \n",
              "                                                                              \n",
              "                                                                              \n",
              "                                                                              \n",
              "                                                                              \n",
              "                                                                              \n",
              "         3                                                                    \n",
              "9⋅b⋅c   b                                                                     \n",
              "───── + ──                                                                    \n",
              "    2    3                                                                    \n",
              " 2⋅a    a                                                                     \n",
              "\n",
              "____________________                                                          \n",
              "                                                                              \n",
              "                                                                              \n",
              "                                                                              \n",
              "                                                                              \n",
              "                                                                              \n",
              "                  3                                                           \n",
              "  27⋅d   9⋅b⋅c   b                                                           3\n",
              "+ ──── - ───── + ──                                                        - ─\n",
              "  2⋅a        2    3                                                           \n",
              "          2⋅a    a      b                                                     \n",
              "──────────────────── - ───, - ────────────────────────────────────────────────\n",
              "                       3⋅a                              ______________________\n",
              "                                                       ╱        ______________\n",
              "                                                      ╱        ╱              \n",
              "                                                     ╱        ╱      ⎛        \n",
              "                                                    ╱        ╱       ⎜  3⋅c   \n",
              "                                                   ╱        ╱    - 4⋅⎜- ─── + \n",
              "                                                  ╱        ╱         ⎜   a    \n",
              "                                ⎛  1   √3⋅ⅈ⎞     ╱       ╲╱          ⎝        \n",
              "                              3⋅⎜- ─ - ────⎟⋅   ╱        ─────────────────────\n",
              "                                ⎝  2    2  ⎠ 3 ╱                              \n",
              "                                             ╲╱                               \n",
              "\n",
              "                                                                              \n",
              "                                                                             ╱\n",
              "                                                                            ╱ \n",
              "                                                                           ╱  \n",
              "                                                                          ╱   \n",
              "                                                                         ╱    \n",
              "      2                                                                 ╱     \n",
              "⋅c   b                                                ⎛  1   √3⋅ⅈ⎞     ╱      \n",
              "── + ──                                               ⎜- ─ - ────⎟⋅   ╱       \n",
              "a     2                                               ⎝  2    2  ⎠ 3 ╱        \n",
              "     a                                                             ╲╱         \n",
              "─────────────────────────────────────────────────── - ────────────────────────\n",
              "___________________________________________________                           \n",
              "______________________________                                                \n",
              "   3                        2                                                 \n",
              " 2⎞    ⎛                  3⎞                                                  \n",
              "b ⎟    ⎜27⋅d   9⋅b⋅c   2⋅b ⎟                                                  \n",
              "──⎟  + ⎜──── - ───── + ────⎟                                                  \n",
              " 2⎟    ⎜ a        2      3 ⎟                     3                            \n",
              "a ⎠    ⎝         a      a  ⎠     27⋅d   9⋅b⋅c   b                             \n",
              "────────────────────────────── + ──── - ───── + ──                            \n",
              "    2                            2⋅a        2    3                            \n",
              "                                         2⋅a    a                             \n",
              "\n",
              "_________________________________________________________________________     \n",
              "        ____________________________________________                          \n",
              "       ╱                 3                        2                           \n",
              "      ╱      ⎛         2⎞    ⎛                  3⎞                            \n",
              "     ╱       ⎜  3⋅c   b ⎟    ⎜27⋅d   9⋅b⋅c   2⋅b ⎟                            \n",
              "    ╱    - 4⋅⎜- ─── + ──⎟  + ⎜──── - ───── + ────⎟                            \n",
              "   ╱         ⎜   a     2⎟    ⎜ a        2      3 ⎟                     3      \n",
              " ╲╱          ⎝        a ⎠    ⎝         a      a  ⎠     27⋅d   9⋅b⋅c   b       \n",
              " ─────────────────────────────────────────────────── + ──── - ───── + ──      \n",
              "                          2                            2⋅a        2    3      \n",
              "                                                               2⋅a    a      b\n",
              "───────────────────────────────────────────────────────────────────────── - ──\n",
              "                        3                                                   3⋅\n",
              "                                                                              \n",
              "                                                                              \n",
              "                                                                              \n",
              "                                                                              \n",
              "                                                                              \n",
              "                                                                              \n",
              "                                                                              \n",
              "                                                                              \n",
              "                                                                              \n",
              "                                                                              \n",
              "\n",
              "                                                                              \n",
              "                                                                              \n",
              "                                                                              \n",
              "                                                                              \n",
              "                                                                              \n",
              "                                                                              \n",
              "                                                           2                  \n",
              "                                                    3⋅c   b                   \n",
              "                                                  - ─── + ──                  \n",
              "                                                     a     2                  \n",
              "                                                          a                   \n",
              "─, - ─────────────────────────────────────────────────────────────────────────\n",
              "a                              _______________________________________________\n",
              "                              ╱        _______________________________________\n",
              "                             ╱        ╱                 3                     \n",
              "                            ╱        ╱      ⎛         2⎞    ⎛                 \n",
              "                           ╱        ╱       ⎜  3⋅c   b ⎟    ⎜27⋅d   9⋅b⋅c   2⋅\n",
              "                          ╱        ╱    - 4⋅⎜- ─── + ──⎟  + ⎜──── - ───── + ──\n",
              "                         ╱        ╱         ⎜   a     2⎟    ⎜ a        2      \n",
              "       ⎛  1   √3⋅ⅈ⎞     ╱       ╲╱          ⎝        a ⎠    ⎝         a      a\n",
              "     3⋅⎜- ─ + ────⎟⋅   ╱        ──────────────────────────────────────────────\n",
              "       ⎝  2    2  ⎠ 3 ╱                                  2                    \n",
              "                    ╲╱                                                        \n",
              "\n",
              "                                                     _________________________\n",
              "                                                    ╱        _________________\n",
              "                                                   ╱        ╱                 \n",
              "                                                  ╱        ╱      ⎛         2⎞\n",
              "                                                 ╱        ╱       ⎜  3⋅c   b ⎟\n",
              "                                                ╱        ╱    - 4⋅⎜- ─── + ──⎟\n",
              "                                               ╱        ╱         ⎜   a     2⎟\n",
              "                             ⎛  1   √3⋅ⅈ⎞     ╱       ╲╱          ⎝        a ⎠\n",
              "                             ⎜- ─ + ────⎟⋅   ╱        ────────────────────────\n",
              "                             ⎝  2    2  ⎠ 3 ╱                                 \n",
              "                                          ╲╱                                  \n",
              "────────────────────────── - ─────────────────────────────────────────────────\n",
              "__________________________                                                   3\n",
              "_____                                                                         \n",
              "   2                                                                          \n",
              " 3⎞                                                                           \n",
              "b ⎟                                                                           \n",
              "──⎟                                                                           \n",
              "3 ⎟                     3                                                     \n",
              "  ⎠     27⋅d   9⋅b⋅c   b                                                      \n",
              "───── + ──── - ───── + ──                                                     \n",
              "        2⋅a        2    3                                                     \n",
              "                2⋅a    a                                                      \n",
              "\n",
              "________________________________________________      ⎤\n",
              "___________________________                           ⎥\n",
              "3                        2                            ⎥\n",
              "    ⎛                  3⎞                             ⎥\n",
              "    ⎜27⋅d   9⋅b⋅c   2⋅b ⎟                             ⎥\n",
              "  + ⎜──── - ───── + ────⎟                             ⎥\n",
              "    ⎜ a        2      3 ⎟                     3       ⎥\n",
              "    ⎝         a      a  ⎠     27⋅d   9⋅b⋅c   b        ⎥\n",
              "─────────────────────────── + ──── - ───── + ──       ⎥\n",
              " 2                            2⋅a        2    3       ⎥\n",
              "                                      2⋅a    a      b ⎥\n",
              "──────────────────────────────────────────────── - ───⎥\n",
              "                                                   3⋅a⎥\n",
              "                                                      ⎥\n",
              "                                                      ⎥\n",
              "                                                      ⎥\n",
              "                                                      ⎥\n",
              "                                                      ⎥\n",
              "                                                      ⎥\n",
              "                                                      ⎥\n",
              "                                                      ⎥\n",
              "                                                      ⎥\n",
              "                                                      ⎦"
            ],
            "text/latex": "$\\displaystyle \\left[ - \\frac{- \\frac{3 c}{a} + \\frac{b^{2}}{a^{2}}}{3 \\sqrt[3]{\\frac{\\sqrt{- 4 \\left(- \\frac{3 c}{a} + \\frac{b^{2}}{a^{2}}\\right)^{3} + \\left(\\frac{27 d}{a} - \\frac{9 b c}{a^{2}} + \\frac{2 b^{3}}{a^{3}}\\right)^{2}}}{2} + \\frac{27 d}{2 a} - \\frac{9 b c}{2 a^{2}} + \\frac{b^{3}}{a^{3}}}} - \\frac{\\sqrt[3]{\\frac{\\sqrt{- 4 \\left(- \\frac{3 c}{a} + \\frac{b^{2}}{a^{2}}\\right)^{3} + \\left(\\frac{27 d}{a} - \\frac{9 b c}{a^{2}} + \\frac{2 b^{3}}{a^{3}}\\right)^{2}}}{2} + \\frac{27 d}{2 a} - \\frac{9 b c}{2 a^{2}} + \\frac{b^{3}}{a^{3}}}}{3} - \\frac{b}{3 a}, \\  - \\frac{- \\frac{3 c}{a} + \\frac{b^{2}}{a^{2}}}{3 \\left(- \\frac{1}{2} - \\frac{\\sqrt{3} i}{2}\\right) \\sqrt[3]{\\frac{\\sqrt{- 4 \\left(- \\frac{3 c}{a} + \\frac{b^{2}}{a^{2}}\\right)^{3} + \\left(\\frac{27 d}{a} - \\frac{9 b c}{a^{2}} + \\frac{2 b^{3}}{a^{3}}\\right)^{2}}}{2} + \\frac{27 d}{2 a} - \\frac{9 b c}{2 a^{2}} + \\frac{b^{3}}{a^{3}}}} - \\frac{\\left(- \\frac{1}{2} - \\frac{\\sqrt{3} i}{2}\\right) \\sqrt[3]{\\frac{\\sqrt{- 4 \\left(- \\frac{3 c}{a} + \\frac{b^{2}}{a^{2}}\\right)^{3} + \\left(\\frac{27 d}{a} - \\frac{9 b c}{a^{2}} + \\frac{2 b^{3}}{a^{3}}\\right)^{2}}}{2} + \\frac{27 d}{2 a} - \\frac{9 b c}{2 a^{2}} + \\frac{b^{3}}{a^{3}}}}{3} - \\frac{b}{3 a}, \\  - \\frac{- \\frac{3 c}{a} + \\frac{b^{2}}{a^{2}}}{3 \\left(- \\frac{1}{2} + \\frac{\\sqrt{3} i}{2}\\right) \\sqrt[3]{\\frac{\\sqrt{- 4 \\left(- \\frac{3 c}{a} + \\frac{b^{2}}{a^{2}}\\right)^{3} + \\left(\\frac{27 d}{a} - \\frac{9 b c}{a^{2}} + \\frac{2 b^{3}}{a^{3}}\\right)^{2}}}{2} + \\frac{27 d}{2 a} - \\frac{9 b c}{2 a^{2}} + \\frac{b^{3}}{a^{3}}}} - \\frac{\\left(- \\frac{1}{2} + \\frac{\\sqrt{3} i}{2}\\right) \\sqrt[3]{\\frac{\\sqrt{- 4 \\left(- \\frac{3 c}{a} + \\frac{b^{2}}{a^{2}}\\right)^{3} + \\left(\\frac{27 d}{a} - \\frac{9 b c}{a^{2}} + \\frac{2 b^{3}}{a^{3}}\\right)^{2}}}{2} + \\frac{27 d}{2 a} - \\frac{9 b c}{2 a^{2}} + \\frac{b^{3}}{a^{3}}}}{3} - \\frac{b}{3 a}\\right]$"
          },
          "metadata": {},
          "execution_count": 19
        }
      ]
    },
    {
      "cell_type": "markdown",
      "metadata": {
        "id": "p09IBLLwkqRY"
      },
      "source": [
        "Metoda `solveset` może przyjąć więcej argumentów, na przykład ogranmiczenia przestrzeni rozwiązań. Na przykład poniższe równanie w zbiorze $\\mathbb{R}$ nie ma rozwiązań:\n",
        "\n",
        "$$x^2 + 1 = 0$$"
      ]
    },
    {
      "cell_type": "code",
      "execution_count": null,
      "metadata": {
        "dotnet_interactive": {
          "language": "csharp"
        },
        "colab": {
          "base_uri": "https://localhost:8080/",
          "height": 37
        },
        "id": "vCONOup9kqRb",
        "outputId": "13edb69e-38f3-4f82-b176-422d507973a4"
      },
      "outputs": [
        {
          "output_type": "execute_result",
          "data": {
            "text/plain": [
              "EmptySet"
            ],
            "text/latex": "$\\displaystyle \\emptyset$"
          },
          "metadata": {},
          "execution_count": 10
        }
      ],
      "source": [
        "sym.solveset(x ** 2 + 1, x, domain=sym.S.Reals)"
      ]
    },
    {
      "cell_type": "markdown",
      "metadata": {
        "id": "C7CsFOlYkqRe"
      },
      "source": [
        "---\n",
        "**Ćwiczenie** Wykorzystaj SymPy do rozwiązania poniższych równań:\n",
        "\n",
        "- $x ^ 2 == 2$ w zbiorze $\\mathbb{N}$;\n",
        "- $x ^ 3 + 2 x = 0$ w zbiorze $\\mathbb{R}$.\n",
        "\n",
        "---"
      ]
    },
    {
      "cell_type": "code",
      "source": [
        "from sympy import *\n",
        "sqrt(2).evalf()"
      ],
      "metadata": {
        "id": "pcTVyETZqmut",
        "colab": {
          "base_uri": "https://localhost:8080/",
          "height": 37
        },
        "outputId": "24395fbc-2359-475a-9c80-a0271080c141"
      },
      "execution_count": null,
      "outputs": [
        {
          "output_type": "execute_result",
          "data": {
            "text/plain": [
              "1.41421356237310"
            ],
            "text/latex": "$\\displaystyle 1.4142135623731$"
          },
          "metadata": {},
          "execution_count": 25
        }
      ]
    },
    {
      "cell_type": "code",
      "source": [
        "from sympy import *\n",
        "x = symbols('x')\n",
        "solve(x**3 + 2*x, x)"
      ],
      "metadata": {
        "colab": {
          "base_uri": "https://localhost:8080/",
          "height": 47
        },
        "id": "TrOvPA1DSMYI",
        "outputId": "efbd2739-32d4-437d-fae0-3f709e6569b7"
      },
      "execution_count": null,
      "outputs": [
        {
          "output_type": "execute_result",
          "data": {
            "text/plain": [
              "[0, -√2⋅ⅈ, √2⋅ⅈ]"
            ],
            "text/latex": "$\\displaystyle \\left[ 0, \\  - \\sqrt{2} i, \\  \\sqrt{2} i\\right]$"
          },
          "metadata": {},
          "execution_count": 26
        }
      ]
    },
    {
      "cell_type": "markdown",
      "metadata": {
        "id": "IYAhB6sBkqRg"
      },
      "source": [
        "## Analiza matematyczna\n",
        "\n",
        "Obliczanie granicy funkcji, np.:\n",
        "\n",
        "$$\\lim_{x\\to 0^+}\\frac{1}{x}$$"
      ]
    },
    {
      "cell_type": "code",
      "execution_count": null,
      "metadata": {
        "dotnet_interactive": {
          "language": "csharp"
        },
        "colab": {
          "base_uri": "https://localhost:8080/",
          "height": 37
        },
        "id": "rQnBn-fvkqRh",
        "outputId": "6a4331d2-0587-4441-9a7a-6398a2c82f57"
      },
      "outputs": [
        {
          "output_type": "execute_result",
          "data": {
            "text/plain": [
              "oo"
            ],
            "text/latex": "$\\displaystyle \\infty$"
          },
          "metadata": {},
          "execution_count": 11
        }
      ],
      "source": [
        "sym.limit(1/x, x, 0, dir=\"+\")"
      ]
    },
    {
      "cell_type": "markdown",
      "metadata": {
        "id": "JaAhvdWOkqRh"
      },
      "source": [
        "---\n",
        "**Ćwiczenie** Oblicz granice:\n",
        "\n",
        "1. $\\lim_{x\\to 0^-}\\frac{1}{x}$\n",
        "2.  $\\lim_{x\\to 0}\\frac{1}{x^2}$\n",
        "\n",
        "---"
      ]
    },
    {
      "cell_type": "code",
      "source": [
        "from sympy import *\n",
        "x = symbols('x')\n",
        "limit(-1/x, x, 0, dir='-')"
      ],
      "metadata": {
        "colab": {
          "base_uri": "https://localhost:8080/",
          "height": 37
        },
        "id": "hjhU2reeN4Eh",
        "outputId": "22fd93cd-af79-4138-a799-80847899d7f2"
      },
      "execution_count": null,
      "outputs": [
        {
          "output_type": "execute_result",
          "data": {
            "text/plain": [
              "∞"
            ],
            "text/latex": "$\\displaystyle \\infty$"
          },
          "metadata": {},
          "execution_count": 28
        }
      ]
    },
    {
      "cell_type": "code",
      "source": [
        "from sympy import *\n",
        "x = symbols('x')\n",
        "limit(1/x**2, x, 0, dir='+')\n"
      ],
      "metadata": {
        "colab": {
          "base_uri": "https://localhost:8080/",
          "height": 37
        },
        "id": "NkvS-GBxSTDQ",
        "outputId": "78b7a6e7-853e-405b-e0fe-79ea8e799614"
      },
      "execution_count": null,
      "outputs": [
        {
          "output_type": "execute_result",
          "data": {
            "text/plain": [
              "∞"
            ],
            "text/latex": "$\\displaystyle \\infty$"
          },
          "metadata": {},
          "execution_count": 29
        }
      ]
    },
    {
      "cell_type": "markdown",
      "metadata": {
        "id": "XvSpT0CxkqRj"
      },
      "source": [
        "Obliczanie pochodnych, np.:\n",
        "\n",
        "$$x ^ 2 - \\cos(x)$$"
      ]
    },
    {
      "cell_type": "code",
      "execution_count": null,
      "metadata": {
        "dotnet_interactive": {
          "language": "csharp"
        },
        "colab": {
          "base_uri": "https://localhost:8080/",
          "height": 38
        },
        "id": "e0maczrpkqRl",
        "outputId": "62d55b66-29e4-4f44-a014-e0a407368267"
      },
      "outputs": [
        {
          "output_type": "execute_result",
          "data": {
            "text/plain": [
              "2*x + sin(x)"
            ],
            "text/latex": "$\\displaystyle 2 x + \\sin{\\left(x \\right)}$"
          },
          "metadata": {},
          "execution_count": 12
        }
      ],
      "source": [
        "sym.diff(x ** 2 - sym.cos(x), x)"
      ]
    },
    {
      "cell_type": "markdown",
      "metadata": {
        "id": "RK4DQMbzkqRp"
      },
      "source": [
        "Obliczanie całek nieoznaczonych, np. $∫x^2-\\cos x\\;dx$:"
      ]
    },
    {
      "cell_type": "code",
      "execution_count": null,
      "metadata": {
        "dotnet_interactive": {
          "language": "csharp"
        },
        "colab": {
          "base_uri": "https://localhost:8080/",
          "height": 54
        },
        "id": "zRRZhSZOkqRq",
        "outputId": "6ab99a54-e9e4-4de9-f48c-616cbfcc4d39"
      },
      "outputs": [
        {
          "output_type": "execute_result",
          "data": {
            "text/plain": [
              "x**3/3 - sin(x)"
            ],
            "text/latex": "$\\displaystyle \\frac{x^{3}}{3} - \\sin{\\left(x \\right)}$"
          },
          "metadata": {},
          "execution_count": 13
        }
      ],
      "source": [
        "sym.integrate(x ** 2 - sym.cos(x), x)"
      ]
    },
    {
      "cell_type": "markdown",
      "metadata": {
        "id": "7h34mr9RkqRr"
      },
      "source": [
        "Obliczanie całek oznaczonych, np. $$∫_{0}^{5}  x^2-\\cos x\\;dx$$"
      ]
    },
    {
      "cell_type": "code",
      "execution_count": null,
      "metadata": {
        "dotnet_interactive": {
          "language": "csharp"
        },
        "colab": {
          "base_uri": "https://localhost:8080/",
          "height": 51
        },
        "id": "pBHmUY8UkqRs",
        "outputId": "162137e1-28bc-4dff-e83f-8bb791e00da3"
      },
      "outputs": [
        {
          "output_type": "execute_result",
          "data": {
            "text/plain": [
              "125/3 - sin(5)"
            ],
            "text/latex": "$\\displaystyle \\frac{125}{3} - \\sin{\\left(5 \\right)}$"
          },
          "metadata": {},
          "execution_count": 14
        }
      ],
      "source": [
        "wynik = sym.integrate(x ** 2 - sym.cos(x), (x, 0, 5))\n",
        "wynik"
      ]
    },
    {
      "cell_type": "code",
      "source": [
        "float(wynik)"
      ],
      "metadata": {
        "colab": {
          "base_uri": "https://localhost:8080/"
        },
        "id": "sxBKgXPpsD74",
        "outputId": "f2da05ae-ff05-498e-c4cc-ea4d2ad4d262"
      },
      "execution_count": null,
      "outputs": [
        {
          "output_type": "execute_result",
          "data": {
            "text/plain": [
              "42.625590941329804"
            ]
          },
          "metadata": {},
          "execution_count": 15
        }
      ]
    },
    {
      "cell_type": "markdown",
      "metadata": {
        "id": "3yI-D2-2kqRt"
      },
      "source": [
        "---\n",
        "\n",
        "**Ćwiczenie** Użyj SymPy do obliczenia:\n",
        "\n",
        "1. $\\frac{d\\sin(x ^2)}{dx}$\n",
        "2. $\\frac{d(x ^2 + xy - \\ln(y))}{dy}$\n",
        "3. $\\int e^x \\cos(x)\\;dx$\n",
        "4. $\\int_0^5 e^{2x}\\;dx$"
      ]
    },
    {
      "cell_type": "code",
      "source": [
        "from sympy import *\n",
        "x = symbols('x')\n",
        "diff(sin(x**2), x)"
      ],
      "metadata": {
        "colab": {
          "base_uri": "https://localhost:8080/",
          "height": 39
        },
        "id": "-gFTVBfIOD_T",
        "outputId": "a6c35ca1-effc-483f-ec24-66b89177a805"
      },
      "execution_count": null,
      "outputs": [
        {
          "output_type": "execute_result",
          "data": {
            "text/plain": [
              "       ⎛ 2⎞\n",
              "2⋅x⋅cos⎝x ⎠"
            ],
            "text/latex": "$\\displaystyle 2 x \\cos{\\left(x^{2} \\right)}$"
          },
          "metadata": {},
          "execution_count": 30
        }
      ]
    },
    {
      "cell_type": "code",
      "source": [
        "from sympy import *\n",
        "x, y = symbols('x y')\n",
        "diff(x**2 + x*y - ln(y), y)"
      ],
      "metadata": {
        "colab": {
          "base_uri": "https://localhost:8080/",
          "height": 54
        },
        "id": "tW_xoNV4So0Q",
        "outputId": "4f71aa18-b8e2-4808-cfa6-927a5c76d050"
      },
      "execution_count": null,
      "outputs": [
        {
          "output_type": "execute_result",
          "data": {
            "text/plain": [
              "    1\n",
              "x - ─\n",
              "    y"
            ],
            "text/latex": "$\\displaystyle x - \\frac{1}{y}$"
          },
          "metadata": {},
          "execution_count": 31
        }
      ]
    },
    {
      "cell_type": "code",
      "source": [
        "from sympy import *\n",
        "x = symbols('x')\n",
        "integrate(exp(x)*cos(x), x)"
      ],
      "metadata": {
        "colab": {
          "base_uri": "https://localhost:8080/",
          "height": 53
        },
        "id": "x5409I-HShPA",
        "outputId": "9f167a2c-00f5-4032-af1f-71b70b0d57f2"
      },
      "execution_count": null,
      "outputs": [
        {
          "output_type": "execute_result",
          "data": {
            "text/plain": [
              " x           x       \n",
              "ℯ ⋅sin(x)   ℯ ⋅cos(x)\n",
              "───────── + ─────────\n",
              "    2           2    "
            ],
            "text/latex": "$\\displaystyle \\frac{e^{x} \\sin{\\left(x \\right)}}{2} + \\frac{e^{x} \\cos{\\left(x \\right)}}{2}$"
          },
          "metadata": {},
          "execution_count": 35
        }
      ]
    },
    {
      "cell_type": "code",
      "source": [
        "from sympy import *\n",
        "x = symbols('x')\n",
        "integrate(50*exp(2*x), x)"
      ],
      "metadata": {
        "colab": {
          "base_uri": "https://localhost:8080/",
          "height": 39
        },
        "id": "FQPMkZQvSdBP",
        "outputId": "25c11b61-841b-4796-bf29-0d2e8b7e6041"
      },
      "execution_count": null,
      "outputs": [
        {
          "output_type": "execute_result",
          "data": {
            "text/plain": [
              "    2⋅x\n",
              "25⋅ℯ   "
            ],
            "text/latex": "$\\displaystyle 25 e^{2 x}$"
          },
          "metadata": {},
          "execution_count": 34
        }
      ]
    },
    {
      "cell_type": "markdown",
      "metadata": {
        "id": "_i2mRfpgkqRu"
      },
      "source": [
        "## Wykresy z SymPy\n",
        "\n",
        "SymPy może posłużyć do wykreślania funkcji (razem z [matplotlib](http://matplotlib.org/)).\n",
        "\n",
        "Przed uruchomieniem kreślenia w Jupyter notebook, trzeba wydać czarodziejską komendę:"
      ]
    },
    {
      "cell_type": "code",
      "execution_count": null,
      "metadata": {
        "dotnet_interactive": {
          "language": "csharp"
        },
        "id": "hhadJbkWkqRv"
      },
      "outputs": [],
      "source": [
        "%matplotlib inline"
      ]
    },
    {
      "cell_type": "markdown",
      "metadata": {
        "id": "LilZDaH3kqRw"
      },
      "source": [
        "Parabola $x^2$:"
      ]
    },
    {
      "cell_type": "code",
      "execution_count": null,
      "metadata": {
        "dotnet_interactive": {
          "language": "csharp"
        },
        "tags": [
          "nbval-ignore-output"
        ],
        "colab": {
          "base_uri": "https://localhost:8080/",
          "height": 296
        },
        "id": "99V2mBbLkqRx",
        "outputId": "e1c34134-36a6-41f7-f6da-e7069f7ee297"
      },
      "outputs": [
        {
          "output_type": "display_data",
          "data": {
            "text/plain": [
              "<Figure size 432x288 with 1 Axes>"
            ],
            "image/png": "[encoded data removed]"
          },
          "metadata": {
            "needs_background": "light"
          }
        }
      ],
      "source": [
        "expr = x ** 2\n",
        "p = sym.plot(expr);"
      ]
    },
    {
      "cell_type": "markdown",
      "metadata": {
        "id": "KA0H7rlikqR0"
      },
      "source": [
        "---\n",
        "**Ćwiczenie** Narysuj wykresy funkcji:\n",
        "\n",
        "- $y=x + cos(x)$\n",
        "- $y=x ^ 2 - e^x$ (być może przyda się `ylim` jako argument)\n",
        "\n",
        "Eksperymentuj z wykresami."
      ]
    },
    {
      "cell_type": "markdown",
      "source": [
        "## Wykresy - jak to zrobić"
      ],
      "metadata": {
        "id": "rTde_BzTuW7z"
      }
    },
    {
      "cell_type": "markdown",
      "source": [
        "Wykres dla danych próbkowanych (`numpy` - numeryczny python, `linspace` - próbkowanie wartości z podanego zakresu)."
      ],
      "metadata": {
        "id": "Ee9NlzGSvJG6"
      }
    },
    {
      "cell_type": "code",
      "source": [
        "import matplotlib.pyplot as plt\n",
        "import numpy as np\n",
        "\n",
        "x = np.linspace(-40, 40, 1000)\n",
        "y = x ** 2 + 3 * x + 1\n",
        "plt.figure()\n",
        "plt.plot(x, y);"
      ],
      "metadata": {
        "colab": {
          "base_uri": "https://localhost:8080/",
          "height": 265
        },
        "id": "1R-yZF8BvDHM",
        "outputId": "f5f39b74-93c6-436d-e9dd-0ad2980568d5"
      },
      "execution_count": null,
      "outputs": [
        {
          "output_type": "display_data",
          "data": {
            "text/plain": [
              "<Figure size 432x288 with 1 Axes>"
            ],
            "image/png": "[encoded data removed]"
          },
          "metadata": {
            "needs_background": "light"
          }
        }
      ]
    },
    {
      "cell_type": "code",
      "source": [
        "# nakładanie wykresów\n",
        "import matplotlib.pyplot as plt\n",
        "import numpy as np\n",
        "\n",
        "x = np.linspace(-10, 10, 1000)\n",
        "f = np.cos(x)\n",
        "g = np.sin(x)\n",
        "plt.figure()\n",
        "plt.plot(x, f)\n",
        "plt.plot(x, g, color=\"red\");"
      ],
      "metadata": {
        "colab": {
          "base_uri": "https://localhost:8080/",
          "height": 265
        },
        "id": "s4SZ4OzRvg1R",
        "outputId": "5729f89b-ce24-4696-d74e-849827e28adc"
      },
      "execution_count": null,
      "outputs": [
        {
          "output_type": "display_data",
          "data": {
            "text/plain": [
              "<Figure size 432x288 with 1 Axes>"
            ],
            "image/png": "[encoded data removed]"
          },
          "metadata": {
            "needs_background": "light"
          }
        }
      ]
    },
    {
      "cell_type": "code",
      "source": [
        "# dodawanie tytułu\n",
        "import matplotlib.pyplot as plt\n",
        "import numpy as np\n",
        "\n",
        "x = np.linspace(-10, 10, 1000)\n",
        "f = np.cos(x)\n",
        "plt.figure()\n",
        "plt.plot(x, f)\n",
        "plt.title(\"Wykres cos(x)\");"
      ],
      "metadata": {
        "colab": {
          "base_uri": "https://localhost:8080/",
          "height": 281
        },
        "id": "3rrBrhpjvmwk",
        "outputId": "01ed7569-ff95-44a0-f9bd-708356255cbd"
      },
      "execution_count": null,
      "outputs": [
        {
          "output_type": "display_data",
          "data": {
            "text/plain": [
              "<Figure size 432x288 with 1 Axes>"
            ],
            "image/png": "[encoded data removed]"
          },
          "metadata": {
            "needs_background": "light"
          }
        }
      ]
    },
    {
      "cell_type": "code",
      "source": [
        "# uzywanie LaTeX w opisach\n",
        "import matplotlib.pyplot as plt\n",
        "import numpy as np\n",
        "\n",
        "x = np.linspace(-10, 10, 1000)\n",
        "f = np.sin(x)/x\n",
        "plt.figure()\n",
        "plt.plot(x, f)\n",
        "plt.title(\"Wykres: $\\\\frac{sin(x)}{x}$\");"
      ],
      "metadata": {
        "colab": {
          "base_uri": "https://localhost:8080/",
          "height": 287
        },
        "id": "tZkwrEy7v4Bl",
        "outputId": "6cd54230-2a73-4af0-95bc-a594e2e18e16"
      },
      "execution_count": null,
      "outputs": [
        {
          "output_type": "display_data",
          "data": {
            "text/plain": [
              "<Figure size 432x288 with 1 Axes>"
            ],
            "image/png": "[encoded data removed]"
          },
          "metadata": {
            "needs_background": "light"
          }
        }
      ]
    },
    {
      "cell_type": "code",
      "source": [
        "# nazwy osi\n",
        "import matplotlib.pyplot as plt\n",
        "import numpy as np\n",
        "\n",
        "x = np.linspace(-10, 10, 1000)\n",
        "f = np.cos(x)\n",
        "plt.figure()\n",
        "plt.plot(x, f)\n",
        "plt.xlabel(\"$x$\")\n",
        "plt.ylabel(\"$y$\");"
      ],
      "metadata": {
        "colab": {
          "base_uri": "https://localhost:8080/",
          "height": 279
        },
        "id": "f7c-1QuJxEab",
        "outputId": "a2a60941-ef91-4c40-a224-77ad61631b6f"
      },
      "execution_count": null,
      "outputs": [
        {
          "output_type": "display_data",
          "data": {
            "text/plain": [
              "<Figure size 432x288 with 1 Axes>"
            ],
            "image/png": "[encoded data removed]"
          },
          "metadata": {
            "needs_background": "light"
          }
        }
      ]
    },
    {
      "cell_type": "code",
      "source": [
        "# dodawanie legendy\n",
        "import matplotlib.pyplot as plt\n",
        "import numpy as np\n",
        "\n",
        "x = np.linspace(-10, 10, 1000)\n",
        "f = np.cos(x)\n",
        "g = np.sin(x)\n",
        "plt.figure()\n",
        "plt.plot(x, f, label=\"$cos(x)$\")\n",
        "plt.plot(x, g, label=\"$sin(x)$\", color=\"red\")\n",
        "plt.legend();"
      ],
      "metadata": {
        "colab": {
          "base_uri": "https://localhost:8080/",
          "height": 265
        },
        "id": "shmwoQYGxMVE",
        "outputId": "09d324ba-01c1-4ca0-da89-626b088e05da"
      },
      "execution_count": null,
      "outputs": [
        {
          "output_type": "display_data",
          "data": {
            "text/plain": [
              "<Figure size 432x288 with 1 Axes>"
            ],
            "image/png": "[encoded data removed]"
          },
          "metadata": {
            "needs_background": "light"
          }
        }
      ]
    },
    {
      "cell_type": "code",
      "source": [
        "# dane empiryczne\n",
        "import matplotlib.pyplot as plt\n",
        "import numpy as np\n",
        "\n",
        "x = np.array((1, 2, 3, 4, 5))\n",
        "y = np.array((-1, -2, 4, -1, 7))\n",
        "plt.figure()\n",
        "plt.scatter(x, y)\n",
        "plt.show()"
      ],
      "metadata": {
        "colab": {
          "base_uri": "https://localhost:8080/",
          "height": 265
        },
        "id": "tBBMSIofxYvA",
        "outputId": "647a45a2-4703-4c29-b546-8671eb4f4be6"
      },
      "execution_count": null,
      "outputs": [
        {
          "output_type": "display_data",
          "data": {
            "text/plain": [
              "<Figure size 432x288 with 1 Axes>"
            ],
            "image/png": "[encoded data removed]"
          },
          "metadata": {
            "needs_background": "light"
          }
        }
      ]
    },
    {
      "cell_type": "markdown",
      "source": [
        "Zbiór wielu przykładów konstruowania wykresów w `matplotlib`: https://matplotlib.org/stable/gallery/"
      ],
      "metadata": {
        "id": "GP6wLEeo3byQ"
      }
    }
  ],
  "metadata": {
    "anaconda-cloud": {},
    "celltoolbar": "Tags",
    "interpreter": {
      "hash": "72c083a8e491fbc15c600f6be68bc5c966981d7b165d798b5fd0f5e4aaba6386"
    },
    "kernelspec": {
      "display_name": ".NET (C#)",
      "language": "python",
      "name": "python3"
    },
    "language_info": {
      "codemirror_mode": {
        "name": "ipython",
        "version": 3
      },
      "file_extension": ".py",
      "mimetype": "text/x-python",
      "name": "python",
      "nbconvert_exporter": "python",
      "pygments_lexer": "ipython3",
      "version": "3.9.4"
    },
    "colab": {
      "provenance": [],
      "include_colab_link": true
    }
  },
  "nbformat": 4,
  "nbformat_minor": 0
}